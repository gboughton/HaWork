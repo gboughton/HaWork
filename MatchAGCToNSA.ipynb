{
 "cells": [
  {
   "cell_type": "code",
   "execution_count": 1,
   "metadata": {
    "collapsed": true
   },
   "outputs": [],
   "source": [
    "import csv\n",
    "import numpy as np\n",
    "from astropy.io import fits"
   ]
  },
  {
   "cell_type": "code",
   "execution_count": 2,
   "metadata": {
    "collapsed": true
   },
   "outputs": [],
   "source": [
    "def findnearest(x1,y1,x2,y2,delta):\n",
    "    matchflag=1\n",
    "    nmatch=0\n",
    "    d=np.sqrt((x1-x2)**2 + (y1-y2)**2)\n",
    "    index=np.arange(len(d))\n",
    "    t=index[d<delta]\n",
    "    matches=t\n",
    "    if len(matches) > 0:\n",
    "        nmatch=len(matches)\n",
    "        if nmatch > 1:\n",
    "            imatch=index[(d == min(d[t]))]\n",
    "        else:\n",
    "            imatch=matches[0]\n",
    "    else:\n",
    "        imatch = 0\n",
    "        matchflag = 0\n",
    "\n",
    "    return imatch, matchflag,nmatch"
   ]
  },
  {
   "cell_type": "code",
   "execution_count": 3,
   "metadata": {
    "collapsed": true
   },
   "outputs": [],
   "source": [
    "agcdat = fits.getdata('agctotal.fits')\n",
    "nsadat = fits.getdata('nsa_v0_1_2.fits')"
   ]
  },
  {
   "cell_type": "code",
   "execution_count": 13,
   "metadata": {
    "collapsed": false
   },
   "outputs": [
    {
     "name": "stdout",
     "output_type": "stream",
     "text": [
      "Done matching\n"
     ]
    }
   ],
   "source": [
    "matchRadius=30/3600\n",
    "imatch=np.zeros(len(nsadat.RA),'i')\n",
    "matchflag=np.zeros(len(nsadat.RA),'bool')\n",
    "nmatch=np.zeros(len(nsadat.RA),'i')\n",
    "RA = agcdat.RA\n",
    "DEC = agcdat.DEC\n",
    "for i in range(len(nsadat.RA)):\n",
    "    t = findnearest(nsadat.RA[i],nsadat.DEC[i],RA,DEC,matchRadius)\n",
    "\n",
    "    imatch[i],matchflag[i],nmatch[i]  =  t\n",
    "    \n",
    "print \"Done matching\"  \n",
    "outfile = 'AGCToNSAv4.fits'\n",
    "matchedarray1=np.zeros(len(nsadat),dtype=agcdat.dtype)\n",
    "matchedarray1[matchflag] = agcdat[imatch[matchflag]]\n",
    "fits.writeto(outfile,matchedarray1,clobber=True)"
   ]
  },
  {
   "cell_type": "code",
   "execution_count": null,
   "metadata": {
    "collapsed": true
   },
   "outputs": [],
   "source": []
  }
 ],
 "metadata": {
  "kernelspec": {
   "display_name": "Python 2",
   "language": "python",
   "name": "python2"
  },
  "language_info": {
   "codemirror_mode": {
    "name": "ipython",
    "version": 2
   },
   "file_extension": ".py",
   "mimetype": "text/x-python",
   "name": "python",
   "nbconvert_exporter": "python",
   "pygments_lexer": "ipython2",
   "version": "2.7.11"
  }
 },
 "nbformat": 4,
 "nbformat_minor": 0
}
